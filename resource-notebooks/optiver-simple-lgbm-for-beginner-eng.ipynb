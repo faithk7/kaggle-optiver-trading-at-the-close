{
 "cells": [
  {
   "attachments": {
    "dff6a04d-f41d-4c78-95a2-f02228913d06.png": {
     "image/png": "[encoded data removed]"
    }
   },
   "cell_type": "markdown",
   "id": "1eaebff8",
   "metadata": {
    "papermill": {
     "duration": 0.008345,
     "end_time": "2023-10-19T15:07:40.371994",
     "exception": false,
     "start_time": "2023-10-19T15:07:40.363649",
     "status": "completed"
    },
    "tags": []
   },
   "source": [
    "# [Optiver] Simple LGBM for beginner (Eng/日本語)\n",
    "\n",
    "2023/10/11 Update  \n",
    "Apologies: In my previous version, I forgot to change the objective of LGBMRegressor from regression to mae, which is evaluation method in this competition, when I copied and edited from my personal notebook. I modified that, and accordingly public score or the result of various approach in this notebook was changed, thus I updated the descriptions in multiple places.  \n",
    "\n",
    "お詫び：以前掲載していたバージョンでは、Private Notebookから移して編集する際にLGBMRegressorのobjectiveをRegressonのままにしていて今回の評価方式であるMAEに修正することを失念していました。今回修正を行った結果、各種アプローチに伴うスコアや結果が変更となりましたので、複数箇所の記載を更新しています。  \n",
    "\n",
    "This competition is to build the model to predict the closing price movements for hundreds of Nasdaq listed stocks using data from the order book and the closing auction of the stockthe closing price movements for hundreds of Nasdaq listed stocks using data from the order book and the closing auction of the stock.  \n",
    "In my impression, many competitions of recent Kagglerecent Kaggle were for Image recognition or Natural language processing, and we haven't had Table competition for a long time.  \n",
    "When it comes to Optiver, there was Optiver's competition to predict the volatility of the stocks 2 years ago, which was my 2nd competition to perticipate as a beginner. Still, Table competition seems easier for beginners than Image recognition or NLP or something like. This is why I'd like to introduce a simple LGBM model and how to improve the score, while the score has not been so good yet.   \n",
    "I'd be happy if you could refer to this notebook just a starter and enjoy Kaggle, trying various approaches to improve the score by yourself.\n",
    "\n",
    "今回のお題は、オーダーブックと株式のクロージングオークションのデータを使用して何百にも及ぶNASDAQ上場株式の終値の動きを予想するモデルを構築するというものです。  \n",
    "最近Kaggleでは画像認識や自然言語系のコンペが多かった印象ですので、最近Kaggleでは画像認識や自然言語系のコンペが多かった印象ですので、久しぶりのテーブル系コンペのように思われます。  \n",
    "Optiverと言えば、2年前も株式のVolatilityを予測するというコンペがあり、私もそれがコンペデビュー2戦目でした。初心者にはやはり画像認識等よりテーブル系のほうが取り組みやすくて有り難いですね。  \n",
    "ということで、例によってスコアは余り高くないですが、初心者の方向けにシンプルなLGBMとスコア改善のアプローチをご紹介したいと思います。スターターとの位置づけですので、色々と試行錯誤をしてスコアを伸ばしKaggleを楽しんでいただければ幸いです。\n",
    "\n",
    "![image.png](attachment:dff6a04d-f41d-4c78-95a2-f02228913d06.png)"
   ]
  },
  {
   "cell_type": "markdown",
   "id": "a5eee5f5",
   "metadata": {
    "papermill": {
     "duration": 0.007548,
     "end_time": "2023-10-19T15:07:40.387513",
     "exception": false,
     "start_time": "2023-10-19T15:07:40.379965",
     "status": "completed"
    },
    "tags": []
   },
   "source": [
    "# 1. Baseline\n",
    "\n",
    "First, just as a baseline, let's feed the training data into LightGBM and see how good public score is procided.\n",
    "\n",
    "まずは、出発点として、あまり深く考えずに訓練データをLightGBMに投入してどの程度のスコアが出るか見てみます。"
   ]
  },
  {
   "cell_type": "code",
   "execution_count": 1,
   "id": "4971e707",
   "metadata": {
    "_cell_guid": "b1076dfc-b9ad-4769-8c92-a6c4dae69d19",
    "_uuid": "8f2839f25d086af736a60e9eeb907d3b93b6e0e5",
    "execution": {
     "iopub.execute_input": "2023-10-19T15:07:40.405779Z",
     "iopub.status.busy": "2023-10-19T15:07:40.404413Z",
     "iopub.status.idle": "2023-10-19T15:07:45.480879Z",
     "shell.execute_reply": "2023-10-19T15:07:45.478780Z"
    },
    "papermill": {
     "duration": 5.088893,
     "end_time": "2023-10-19T15:07:45.484026",
     "exception": false,
     "start_time": "2023-10-19T15:07:40.395133",
     "status": "completed"
    },
    "tags": []
   },
   "outputs": [],
   "source": [
    "import os\n",
    "import pandas as pd\n",
    "import numpy as np\n",
    "import matplotlib.pyplot as plt\n",
    "%matplotlib inline\n",
    "import warnings\n",
    "warnings.filterwarnings('ignore')\n",
    "import optuna\n",
    "\n",
    "from sklearn.model_selection import KFold\n",
    "from sklearn.metrics import mean_absolute_error\n",
    "import lightgbm as lgbm\n",
    "\n",
    "optuna.logging.set_verbosity(optuna.logging.WARNING)\n",
    "import warnings\n",
    "warnings.filterwarnings('ignore')\n",
    "\n",
    "from lightgbm import *\n",
    "pd.set_option(\"display.max_columns\", None)"
   ]
  },
  {
   "cell_type": "code",
   "execution_count": 2,
   "id": "a6a7802e",
   "metadata": {
    "execution": {
     "iopub.execute_input": "2023-10-19T15:07:45.503165Z",
     "iopub.status.busy": "2023-10-19T15:07:45.502693Z",
     "iopub.status.idle": "2023-10-19T15:08:04.832025Z",
     "shell.execute_reply": "2023-10-19T15:08:04.830417Z"
    },
    "papermill": {
     "duration": 19.342405,
     "end_time": "2023-10-19T15:08:04.834525",
     "exception": false,
     "start_time": "2023-10-19T15:07:45.492120",
     "status": "completed"
    },
    "tags": []
   },
   "outputs": [],
   "source": [
    "df_train = pd.read_csv('../input/optiver-trading-at-the-close/train.csv')\n",
    "df_test = pd.read_csv('../input/optiver-trading-at-the-close/example_test_files/test.csv')\n",
    "sample_sub = pd.read_csv('../input/optiver-trading-at-the-close/example_test_files/sample_submission.csv')\n",
    "rev_target = pd.read_csv('../input/optiver-trading-at-the-close/example_test_files/revealed_targets.csv')"
   ]
  },
  {
   "cell_type": "code",
   "execution_count": 3,
   "id": "b321647e",
   "metadata": {
    "execution": {
     "iopub.execute_input": "2023-10-19T15:08:04.851221Z",
     "iopub.status.busy": "2023-10-19T15:08:04.850828Z",
     "iopub.status.idle": "2023-10-19T15:08:04.895262Z",
     "shell.execute_reply": "2023-10-19T15:08:04.893943Z"
    },
    "papermill": {
     "duration": 0.055495,
     "end_time": "2023-10-19T15:08:04.897612",
     "exception": false,
     "start_time": "2023-10-19T15:08:04.842117",
     "status": "completed"
    },
    "tags": []
   },
   "outputs": [
    {
     "data": {
      "text/html": [
       "<div>\n",
       "<style scoped>\n",
       "    .dataframe tbody tr th:only-of-type {\n",
       "        vertical-align: middle;\n",
       "    }\n",
       "\n",
       "    .dataframe tbody tr th {\n",
       "        vertical-align: top;\n",
       "    }\n",
       "\n",
       "    .dataframe thead th {\n",
       "        text-align: right;\n",
       "    }\n",
       "</style>\n",
       "<table border=\"1\" class=\"dataframe\">\n",
       "  <thead>\n",
       "    <tr style=\"text-align: right;\">\n",
       "      <th></th>\n",
       "      <th>stock_id</th>\n",
       "      <th>date_id</th>\n",
       "      <th>seconds_in_bucket</th>\n",
       "      <th>imbalance_size</th>\n",
       "      <th>imbalance_buy_sell_flag</th>\n",
       "      <th>reference_price</th>\n",
       "      <th>matched_size</th>\n",
       "      <th>far_price</th>\n",
       "      <th>near_price</th>\n",
       "      <th>bid_price</th>\n",
       "      <th>bid_size</th>\n",
       "      <th>ask_price</th>\n",
       "      <th>ask_size</th>\n",
       "      <th>wap</th>\n",
       "      <th>target</th>\n",
       "      <th>time_id</th>\n",
       "      <th>row_id</th>\n",
       "    </tr>\n",
       "  </thead>\n",
       "  <tbody>\n",
       "    <tr>\n",
       "      <th>0</th>\n",
       "      <td>0</td>\n",
       "      <td>0</td>\n",
       "      <td>0</td>\n",
       "      <td>3180602.69</td>\n",
       "      <td>1</td>\n",
       "      <td>0.999812</td>\n",
       "      <td>13380276.64</td>\n",
       "      <td>NaN</td>\n",
       "      <td>NaN</td>\n",
       "      <td>0.999812</td>\n",
       "      <td>60651.50</td>\n",
       "      <td>1.000026</td>\n",
       "      <td>8493.03</td>\n",
       "      <td>1.000000</td>\n",
       "      <td>-3.029704</td>\n",
       "      <td>0</td>\n",
       "      <td>0_0_0</td>\n",
       "    </tr>\n",
       "    <tr>\n",
       "      <th>1</th>\n",
       "      <td>1</td>\n",
       "      <td>0</td>\n",
       "      <td>0</td>\n",
       "      <td>166603.91</td>\n",
       "      <td>-1</td>\n",
       "      <td>0.999896</td>\n",
       "      <td>1642214.25</td>\n",
       "      <td>NaN</td>\n",
       "      <td>NaN</td>\n",
       "      <td>0.999896</td>\n",
       "      <td>3233.04</td>\n",
       "      <td>1.000660</td>\n",
       "      <td>20605.09</td>\n",
       "      <td>1.000000</td>\n",
       "      <td>-5.519986</td>\n",
       "      <td>0</td>\n",
       "      <td>0_0_1</td>\n",
       "    </tr>\n",
       "    <tr>\n",
       "      <th>2</th>\n",
       "      <td>2</td>\n",
       "      <td>0</td>\n",
       "      <td>0</td>\n",
       "      <td>302879.87</td>\n",
       "      <td>-1</td>\n",
       "      <td>0.999561</td>\n",
       "      <td>1819368.03</td>\n",
       "      <td>NaN</td>\n",
       "      <td>NaN</td>\n",
       "      <td>0.999403</td>\n",
       "      <td>37956.00</td>\n",
       "      <td>1.000298</td>\n",
       "      <td>18995.00</td>\n",
       "      <td>1.000000</td>\n",
       "      <td>-8.389950</td>\n",
       "      <td>0</td>\n",
       "      <td>0_0_2</td>\n",
       "    </tr>\n",
       "    <tr>\n",
       "      <th>3</th>\n",
       "      <td>3</td>\n",
       "      <td>0</td>\n",
       "      <td>0</td>\n",
       "      <td>11917682.27</td>\n",
       "      <td>-1</td>\n",
       "      <td>1.000171</td>\n",
       "      <td>18389745.62</td>\n",
       "      <td>NaN</td>\n",
       "      <td>NaN</td>\n",
       "      <td>0.999999</td>\n",
       "      <td>2324.90</td>\n",
       "      <td>1.000214</td>\n",
       "      <td>479032.40</td>\n",
       "      <td>1.000000</td>\n",
       "      <td>-4.010200</td>\n",
       "      <td>0</td>\n",
       "      <td>0_0_3</td>\n",
       "    </tr>\n",
       "    <tr>\n",
       "      <th>4</th>\n",
       "      <td>4</td>\n",
       "      <td>0</td>\n",
       "      <td>0</td>\n",
       "      <td>447549.96</td>\n",
       "      <td>-1</td>\n",
       "      <td>0.999532</td>\n",
       "      <td>17860614.95</td>\n",
       "      <td>NaN</td>\n",
       "      <td>NaN</td>\n",
       "      <td>0.999394</td>\n",
       "      <td>16485.54</td>\n",
       "      <td>1.000016</td>\n",
       "      <td>434.10</td>\n",
       "      <td>1.000000</td>\n",
       "      <td>-7.349849</td>\n",
       "      <td>0</td>\n",
       "      <td>0_0_4</td>\n",
       "    </tr>\n",
       "    <tr>\n",
       "      <th>...</th>\n",
       "      <td>...</td>\n",
       "      <td>...</td>\n",
       "      <td>...</td>\n",
       "      <td>...</td>\n",
       "      <td>...</td>\n",
       "      <td>...</td>\n",
       "      <td>...</td>\n",
       "      <td>...</td>\n",
       "      <td>...</td>\n",
       "      <td>...</td>\n",
       "      <td>...</td>\n",
       "      <td>...</td>\n",
       "      <td>...</td>\n",
       "      <td>...</td>\n",
       "      <td>...</td>\n",
       "      <td>...</td>\n",
       "      <td>...</td>\n",
       "    </tr>\n",
       "    <tr>\n",
       "      <th>5237975</th>\n",
       "      <td>195</td>\n",
       "      <td>480</td>\n",
       "      <td>540</td>\n",
       "      <td>2440722.89</td>\n",
       "      <td>-1</td>\n",
       "      <td>1.000317</td>\n",
       "      <td>28280361.74</td>\n",
       "      <td>0.999734</td>\n",
       "      <td>0.999734</td>\n",
       "      <td>1.000317</td>\n",
       "      <td>32257.04</td>\n",
       "      <td>1.000434</td>\n",
       "      <td>319862.40</td>\n",
       "      <td>1.000328</td>\n",
       "      <td>2.310276</td>\n",
       "      <td>26454</td>\n",
       "      <td>480_540_195</td>\n",
       "    </tr>\n",
       "    <tr>\n",
       "      <th>5237976</th>\n",
       "      <td>196</td>\n",
       "      <td>480</td>\n",
       "      <td>540</td>\n",
       "      <td>349510.47</td>\n",
       "      <td>-1</td>\n",
       "      <td>1.000643</td>\n",
       "      <td>9187699.11</td>\n",
       "      <td>1.000129</td>\n",
       "      <td>1.000386</td>\n",
       "      <td>1.000643</td>\n",
       "      <td>205108.40</td>\n",
       "      <td>1.000900</td>\n",
       "      <td>93393.07</td>\n",
       "      <td>1.000819</td>\n",
       "      <td>-8.220077</td>\n",
       "      <td>26454</td>\n",
       "      <td>480_540_196</td>\n",
       "    </tr>\n",
       "    <tr>\n",
       "      <th>5237977</th>\n",
       "      <td>197</td>\n",
       "      <td>480</td>\n",
       "      <td>540</td>\n",
       "      <td>0.00</td>\n",
       "      <td>0</td>\n",
       "      <td>0.995789</td>\n",
       "      <td>12725436.10</td>\n",
       "      <td>0.995789</td>\n",
       "      <td>0.995789</td>\n",
       "      <td>0.995789</td>\n",
       "      <td>16790.66</td>\n",
       "      <td>0.995883</td>\n",
       "      <td>180038.32</td>\n",
       "      <td>0.995797</td>\n",
       "      <td>1.169443</td>\n",
       "      <td>26454</td>\n",
       "      <td>480_540_197</td>\n",
       "    </tr>\n",
       "    <tr>\n",
       "      <th>5237978</th>\n",
       "      <td>198</td>\n",
       "      <td>480</td>\n",
       "      <td>540</td>\n",
       "      <td>1000898.84</td>\n",
       "      <td>1</td>\n",
       "      <td>0.999210</td>\n",
       "      <td>94773271.05</td>\n",
       "      <td>0.999210</td>\n",
       "      <td>0.999210</td>\n",
       "      <td>0.998970</td>\n",
       "      <td>125631.72</td>\n",
       "      <td>0.999210</td>\n",
       "      <td>669893.00</td>\n",
       "      <td>0.999008</td>\n",
       "      <td>-1.540184</td>\n",
       "      <td>26454</td>\n",
       "      <td>480_540_198</td>\n",
       "    </tr>\n",
       "    <tr>\n",
       "      <th>5237979</th>\n",
       "      <td>199</td>\n",
       "      <td>480</td>\n",
       "      <td>540</td>\n",
       "      <td>1884285.71</td>\n",
       "      <td>-1</td>\n",
       "      <td>1.002129</td>\n",
       "      <td>24073677.32</td>\n",
       "      <td>1.000859</td>\n",
       "      <td>1.001494</td>\n",
       "      <td>1.002129</td>\n",
       "      <td>250081.44</td>\n",
       "      <td>1.002447</td>\n",
       "      <td>300167.56</td>\n",
       "      <td>1.002274</td>\n",
       "      <td>-6.530285</td>\n",
       "      <td>26454</td>\n",
       "      <td>480_540_199</td>\n",
       "    </tr>\n",
       "  </tbody>\n",
       "</table>\n",
       "<p>5237980 rows × 17 columns</p>\n",
       "</div>"
      ],
      "text/plain": [
       "         stock_id  date_id  seconds_in_bucket  imbalance_size  \\\n",
       "0               0        0                  0      3180602.69   \n",
       "1               1        0                  0       166603.91   \n",
       "2               2        0                  0       302879.87   \n",
       "3               3        0                  0     11917682.27   \n",
       "4               4        0                  0       447549.96   \n",
       "...           ...      ...                ...             ...   \n",
       "5237975       195      480                540      2440722.89   \n",
       "5237976       196      480                540       349510.47   \n",
       "5237977       197      480                540            0.00   \n",
       "5237978       198      480                540      1000898.84   \n",
       "5237979       199      480                540      1884285.71   \n",
       "\n",
       "         imbalance_buy_sell_flag  reference_price  matched_size  far_price  \\\n",
       "0                              1         0.999812   13380276.64        NaN   \n",
       "1                             -1         0.999896    1642214.25        NaN   \n",
       "2                             -1         0.999561    1819368.03        NaN   \n",
       "3                             -1         1.000171   18389745.62        NaN   \n",
       "4                             -1         0.999532   17860614.95        NaN   \n",
       "...                          ...              ...           ...        ...   \n",
       "5237975                       -1         1.000317   28280361.74   0.999734   \n",
       "5237976                       -1         1.000643    9187699.11   1.000129   \n",
       "5237977                        0         0.995789   12725436.10   0.995789   \n",
       "5237978                        1         0.999210   94773271.05   0.999210   \n",
       "5237979                       -1         1.002129   24073677.32   1.000859   \n",
       "\n",
       "         near_price  bid_price   bid_size  ask_price   ask_size       wap  \\\n",
       "0               NaN   0.999812   60651.50   1.000026    8493.03  1.000000   \n",
       "1               NaN   0.999896    3233.04   1.000660   20605.09  1.000000   \n",
       "2               NaN   0.999403   37956.00   1.000298   18995.00  1.000000   \n",
       "3               NaN   0.999999    2324.90   1.000214  479032.40  1.000000   \n",
       "4               NaN   0.999394   16485.54   1.000016     434.10  1.000000   \n",
       "...             ...        ...        ...        ...        ...       ...   \n",
       "5237975    0.999734   1.000317   32257.04   1.000434  319862.40  1.000328   \n",
       "5237976    1.000386   1.000643  205108.40   1.000900   93393.07  1.000819   \n",
       "5237977    0.995789   0.995789   16790.66   0.995883  180038.32  0.995797   \n",
       "5237978    0.999210   0.998970  125631.72   0.999210  669893.00  0.999008   \n",
       "5237979    1.001494   1.002129  250081.44   1.002447  300167.56  1.002274   \n",
       "\n",
       "           target  time_id       row_id  \n",
       "0       -3.029704        0        0_0_0  \n",
       "1       -5.519986        0        0_0_1  \n",
       "2       -8.389950        0        0_0_2  \n",
       "3       -4.010200        0        0_0_3  \n",
       "4       -7.349849        0        0_0_4  \n",
       "...           ...      ...          ...  \n",
       "5237975  2.310276    26454  480_540_195  \n",
       "5237976 -8.220077    26454  480_540_196  \n",
       "5237977  1.169443    26454  480_540_197  \n",
       "5237978 -1.540184    26454  480_540_198  \n",
       "5237979 -6.530285    26454  480_540_199  \n",
       "\n",
       "[5237980 rows x 17 columns]"
      ]
     },
     "execution_count": 3,
     "metadata": {},
     "output_type": "execute_result"
    }
   ],
   "source": [
    "df_train"
   ]
  },
  {
   "cell_type": "code",
   "execution_count": 4,
   "id": "15a9ad86",
   "metadata": {
    "execution": {
     "iopub.execute_input": "2023-10-19T15:08:04.915056Z",
     "iopub.status.busy": "2023-10-19T15:08:04.914211Z",
     "iopub.status.idle": "2023-10-19T15:08:04.919671Z",
     "shell.execute_reply": "2023-10-19T15:08:04.918488Z"
    },
    "papermill": {
     "duration": 0.016343,
     "end_time": "2023-10-19T15:08:04.921900",
     "exception": false,
     "start_time": "2023-10-19T15:08:04.905557",
     "status": "completed"
    },
    "tags": []
   },
   "outputs": [],
   "source": [
    "def feature_cols(df) :\n",
    "    cols = [c for c in df.columns if c not in ['row_id', 'time_id', 'date_id']]\n",
    "    df = df[cols]    \n",
    "    return df"
   ]
  },
  {
   "cell_type": "code",
   "execution_count": 5,
   "id": "7ed9ea52",
   "metadata": {
    "execution": {
     "iopub.execute_input": "2023-10-19T15:08:04.938918Z",
     "iopub.status.busy": "2023-10-19T15:08:04.938549Z",
     "iopub.status.idle": "2023-10-19T15:08:06.394341Z",
     "shell.execute_reply": "2023-10-19T15:08:06.393142Z"
    },
    "papermill": {
     "duration": 1.466987,
     "end_time": "2023-10-19T15:08:06.396875",
     "exception": false,
     "start_time": "2023-10-19T15:08:04.929888",
     "status": "completed"
    },
    "tags": []
   },
   "outputs": [],
   "source": [
    "df_train.fillna(0, inplace = True)\n",
    "x_train = feature_cols(df_train.drop(columns='target'))\n",
    "y_train = df_train['target'].values"
   ]
  },
  {
   "cell_type": "code",
   "execution_count": 6,
   "id": "1a16af37",
   "metadata": {
    "execution": {
     "iopub.execute_input": "2023-10-19T15:08:06.413708Z",
     "iopub.status.busy": "2023-10-19T15:08:06.413337Z",
     "iopub.status.idle": "2023-10-19T15:10:20.675375Z",
     "shell.execute_reply": "2023-10-19T15:10:20.674102Z"
    },
    "papermill": {
     "duration": 134.273464,
     "end_time": "2023-10-19T15:10:20.678002",
     "exception": false,
     "start_time": "2023-10-19T15:08:06.404538",
     "status": "completed"
    },
    "tags": []
   },
   "outputs": [
    {
     "data": {
      "text/html": [
       "<style>#sk-container-id-1 {color: black;background-color: white;}#sk-container-id-1 pre{padding: 0;}#sk-container-id-1 div.sk-toggleable {background-color: white;}#sk-container-id-1 label.sk-toggleable__label {cursor: pointer;display: block;width: 100%;margin-bottom: 0;padding: 0.3em;box-sizing: border-box;text-align: center;}#sk-container-id-1 label.sk-toggleable__label-arrow:before {content: \"▸\";float: left;margin-right: 0.25em;color: #696969;}#sk-container-id-1 label.sk-toggleable__label-arrow:hover:before {color: black;}#sk-container-id-1 div.sk-estimator:hover label.sk-toggleable__label-arrow:before {color: black;}#sk-container-id-1 div.sk-toggleable__content {max-height: 0;max-width: 0;overflow: hidden;text-align: left;background-color: #f0f8ff;}#sk-container-id-1 div.sk-toggleable__content pre {margin: 0.2em;color: black;border-radius: 0.25em;background-color: #f0f8ff;}#sk-container-id-1 input.sk-toggleable__control:checked~div.sk-toggleable__content {max-height: 200px;max-width: 100%;overflow: auto;}#sk-container-id-1 input.sk-toggleable__control:checked~label.sk-toggleable__label-arrow:before {content: \"▾\";}#sk-container-id-1 div.sk-estimator input.sk-toggleable__control:checked~label.sk-toggleable__label {background-color: #d4ebff;}#sk-container-id-1 div.sk-label input.sk-toggleable__control:checked~label.sk-toggleable__label {background-color: #d4ebff;}#sk-container-id-1 input.sk-hidden--visually {border: 0;clip: rect(1px 1px 1px 1px);clip: rect(1px, 1px, 1px, 1px);height: 1px;margin: -1px;overflow: hidden;padding: 0;position: absolute;width: 1px;}#sk-container-id-1 div.sk-estimator {font-family: monospace;background-color: #f0f8ff;border: 1px dotted black;border-radius: 0.25em;box-sizing: border-box;margin-bottom: 0.5em;}#sk-container-id-1 div.sk-estimator:hover {background-color: #d4ebff;}#sk-container-id-1 div.sk-parallel-item::after {content: \"\";width: 100%;border-bottom: 1px solid gray;flex-grow: 1;}#sk-container-id-1 div.sk-label:hover label.sk-toggleable__label {background-color: #d4ebff;}#sk-container-id-1 div.sk-serial::before {content: \"\";position: absolute;border-left: 1px solid gray;box-sizing: border-box;top: 0;bottom: 0;left: 50%;z-index: 0;}#sk-container-id-1 div.sk-serial {display: flex;flex-direction: column;align-items: center;background-color: white;padding-right: 0.2em;padding-left: 0.2em;position: relative;}#sk-container-id-1 div.sk-item {position: relative;z-index: 1;}#sk-container-id-1 div.sk-parallel {display: flex;align-items: stretch;justify-content: center;background-color: white;position: relative;}#sk-container-id-1 div.sk-item::before, #sk-container-id-1 div.sk-parallel-item::before {content: \"\";position: absolute;border-left: 1px solid gray;box-sizing: border-box;top: 0;bottom: 0;left: 50%;z-index: -1;}#sk-container-id-1 div.sk-parallel-item {display: flex;flex-direction: column;z-index: 1;position: relative;background-color: white;}#sk-container-id-1 div.sk-parallel-item:first-child::after {align-self: flex-end;width: 50%;}#sk-container-id-1 div.sk-parallel-item:last-child::after {align-self: flex-start;width: 50%;}#sk-container-id-1 div.sk-parallel-item:only-child::after {width: 0;}#sk-container-id-1 div.sk-dashed-wrapped {border: 1px dashed gray;margin: 0 0.4em 0.5em 0.4em;box-sizing: border-box;padding-bottom: 0.4em;background-color: white;}#sk-container-id-1 div.sk-label label {font-family: monospace;font-weight: bold;display: inline-block;line-height: 1.2em;}#sk-container-id-1 div.sk-label-container {text-align: center;}#sk-container-id-1 div.sk-container {/* jupyter's `normalize.less` sets `[hidden] { display: none; }` but bootstrap.min.css set `[hidden] { display: none !important; }` so we also need the `!important` here to be able to override the default hidden behavior on the sphinx rendered scikit-learn.org. See: https://github.com/scikit-learn/scikit-learn/issues/21755 */display: inline-block !important;position: relative;}#sk-container-id-1 div.sk-text-repr-fallback {display: none;}</style><div id=\"sk-container-id-1\" class=\"sk-top-container\"><div class=\"sk-text-repr-fallback\"><pre>LGBMRegressor(n_estimators=500, objective=&#x27;mae&#x27;, random_state=1234)</pre><b>In a Jupyter environment, please rerun this cell to show the HTML representation or trust the notebook. <br />On GitHub, the HTML representation is unable to render, please try loading this page with nbviewer.org.</b></div><div class=\"sk-container\" hidden><div class=\"sk-item\"><div class=\"sk-estimator sk-toggleable\"><input class=\"sk-toggleable__control sk-hidden--visually\" id=\"sk-estimator-id-1\" type=\"checkbox\" checked><label for=\"sk-estimator-id-1\" class=\"sk-toggleable__label sk-toggleable__label-arrow\">LGBMRegressor</label><div class=\"sk-toggleable__content\"><pre>LGBMRegressor(n_estimators=500, objective=&#x27;mae&#x27;, random_state=1234)</pre></div></div></div></div></div>"
      ],
      "text/plain": [
       "LGBMRegressor(n_estimators=500, objective='mae', random_state=1234)"
      ]
     },
     "execution_count": 6,
     "metadata": {},
     "output_type": "execute_result"
    }
   ],
   "source": [
    "lgbm_model = lgbm.LGBMRegressor(objective='mae', n_estimators=500, random_state=1234)\n",
    "lgbm_model.fit(x_train, y_train)"
   ]
  },
  {
   "cell_type": "code",
   "execution_count": 7,
   "id": "6b7b913a",
   "metadata": {
    "execution": {
     "iopub.execute_input": "2023-10-19T15:10:20.694934Z",
     "iopub.status.busy": "2023-10-19T15:10:20.694566Z",
     "iopub.status.idle": "2023-10-19T15:10:21.126202Z",
     "shell.execute_reply": "2023-10-19T15:10:21.125060Z"
    },
    "papermill": {
     "duration": 0.44279,
     "end_time": "2023-10-19T15:10:21.128496",
     "exception": false,
     "start_time": "2023-10-19T15:10:20.685706",
     "status": "completed"
    },
    "tags": []
   },
   "outputs": [
    {
     "data": {
      "text/plain": [
       "<Axes: title={'center': 'Feature importance'}, xlabel='Feature importance', ylabel='Features'>"
      ]
     },
     "execution_count": 7,
     "metadata": {},
     "output_type": "execute_result"
    },
    {
     "data": {
      "image/png": "[encoded data removed]",
      "text/plain": [
       "<Figure size 640x480 with 1 Axes>"
      ]
     },
     "metadata": {},
     "output_type": "display_data"
    }
   ],
   "source": [
    "lgbm.plot_importance(lgbm_model, importance_type=\"gain\")"
   ]
  },
  {
   "cell_type": "markdown",
   "id": "8ac19b1f",
   "metadata": {
    "papermill": {
     "duration": 0.008977,
     "end_time": "2023-10-19T15:10:21.147125",
     "exception": false,
     "start_time": "2023-10-19T15:10:21.138148",
     "status": "completed"
    },
    "tags": []
   },
   "source": [
    "If you submit at this point, the public score will show **5.3888**, which is not so bad. Let's try some approaches from this baseline.\n",
    "\n",
    "この状態でSubmitするとPublic Scoreは**5.3888**となり、まずまずのスコアとなります。  \n",
    "ここからスコア改善を図っていきます。"
   ]
  },
  {
   "cell_type": "markdown",
   "id": "9f9fd8bd",
   "metadata": {
    "papermill": {
     "duration": 0.008638,
     "end_time": "2023-10-19T15:10:21.164705",
     "exception": false,
     "start_time": "2023-10-19T15:10:21.156067",
     "status": "completed"
    },
    "tags": []
   },
   "source": [
    "# 2. Optimize parameter with Optuna"
   ]
  },
  {
   "cell_type": "markdown",
   "id": "81a65075",
   "metadata": {
    "papermill": {
     "duration": 0.008662,
     "end_time": "2023-10-19T15:10:21.182527",
     "exception": false,
     "start_time": "2023-10-19T15:10:21.173865",
     "status": "completed"
    },
    "tags": []
   },
   "source": [
    "Well, changing the approach here, let's see how the score is improved by optimizing the parameters. I used Optuna for optimization. As a result, Public score was improved to **5.3878**.\n",
    "\n",
    "いったんここで、パラメーターを最適化してどの程度スコアが良くなるか見てみます。最適化にはOptunaを使いました。  \n",
    "結果、スコアは**5.3878**へと改善しました。"
   ]
  },
  {
   "cell_type": "code",
   "execution_count": 8,
   "id": "ad0985ff",
   "metadata": {
    "execution": {
     "iopub.execute_input": "2023-10-19T15:10:21.201912Z",
     "iopub.status.busy": "2023-10-19T15:10:21.201514Z",
     "iopub.status.idle": "2023-10-19T15:10:21.426032Z",
     "shell.execute_reply": "2023-10-19T15:10:21.424819Z"
    },
    "papermill": {
     "duration": 0.237281,
     "end_time": "2023-10-19T15:10:21.428629",
     "exception": false,
     "start_time": "2023-10-19T15:10:21.191348",
     "status": "completed"
    },
    "tags": []
   },
   "outputs": [],
   "source": [
    "x = x_train.copy()\n",
    "y = y_train.copy()"
   ]
  },
  {
   "cell_type": "code",
   "execution_count": 9,
   "id": "e469f7ff",
   "metadata": {
    "execution": {
     "iopub.execute_input": "2023-10-19T15:10:21.448189Z",
     "iopub.status.busy": "2023-10-19T15:10:21.447823Z",
     "iopub.status.idle": "2023-10-19T15:10:21.455164Z",
     "shell.execute_reply": "2023-10-19T15:10:21.453907Z"
    },
    "papermill": {
     "duration": 0.019745,
     "end_time": "2023-10-19T15:10:21.457308",
     "exception": false,
     "start_time": "2023-10-19T15:10:21.437563",
     "status": "completed"
    },
    "tags": []
   },
   "outputs": [],
   "source": [
    "def objective(trial):\n",
    "    params = {\n",
    "        'random_seed':123,\n",
    "        'n_estimators'    :trial.suggest_int('n_estimators', 300, 1000),\n",
    "        'num_leaves'      :trial.suggest_int('num_leaves', 4, 32),\n",
    "        'max_depth'       :trial.suggest_int(\"max_depth\",1,10)}\n",
    "            \n",
    "    model = lgbm.LGBMRegressor(**params)\n",
    "    model.fit(x,y)\n",
    "    y_pred = model.predict(x)\n",
    "    score = mean_absolute_error(y, y_pred)\n",
    "    \n",
    "    return score"
   ]
  },
  {
   "cell_type": "code",
   "execution_count": 10,
   "id": "2623ee76",
   "metadata": {
    "execution": {
     "iopub.execute_input": "2023-10-19T15:10:21.479045Z",
     "iopub.status.busy": "2023-10-19T15:10:21.478469Z",
     "iopub.status.idle": "2023-10-19T15:10:21.482960Z",
     "shell.execute_reply": "2023-10-19T15:10:21.482014Z"
    },
    "papermill": {
     "duration": 0.018205,
     "end_time": "2023-10-19T15:10:21.485219",
     "exception": false,
     "start_time": "2023-10-19T15:10:21.467014",
     "status": "completed"
    },
    "tags": []
   },
   "outputs": [],
   "source": [
    "#study = optuna.create_study(sampler=optuna.samplers.RandomSampler(seed=123))\n",
    "#study.optimize(objective, n_trials=50) \n",
    "#study.best_params"
   ]
  },
  {
   "attachments": {
    "73f50981-6381-4e63-8f85-92da79caaba9.png": {
     "image/png": "[encoded data removed]"
    }
   },
   "cell_type": "markdown",
   "id": "9ffaa82d",
   "metadata": {
    "papermill": {
     "duration": 0.009072,
     "end_time": "2023-10-19T15:10:21.503263",
     "exception": false,
     "start_time": "2023-10-19T15:10:21.494191",
     "status": "completed"
    },
    "tags": []
   },
   "source": [
    "Above optimization is Comment-out, since it takes a couple of hours to run this optimization。If you are curious, it may be interesting if you try to optimize various parameters after removing comment-out.\n",
    "\n",
    "Optunaを走らせると２・３時間かかるので、ここではコメントアウトしていますが、以下のように最適化結果が表示されます。興味のある方はコメントアウトを外して、これ以外のパラメーターの変更も試してみると面白いかもしれません。\n",
    "\n",
    "![image.png](attachment:73f50981-6381-4e63-8f85-92da79caaba9.png)"
   ]
  },
  {
   "cell_type": "markdown",
   "id": "9ab33361",
   "metadata": {
    "papermill": {
     "duration": 0.00862,
     "end_time": "2023-10-19T15:10:21.520831",
     "exception": false,
     "start_time": "2023-10-19T15:10:21.512211",
     "status": "completed"
    },
    "tags": []
   },
   "source": [
    "# 3. Add imbalance_size"
   ]
  },
  {
   "attachments": {
    "c9c583f8-761a-4795-bdcb-5ff55d894a55.png": {
     "image/png": "[encoded data removed]"
    }
   },
   "cell_type": "markdown",
   "id": "02039034",
   "metadata": {
    "papermill": {
     "duration": 0.009087,
     "end_time": "2023-10-19T15:10:21.539389",
     "exception": false,
     "start_time": "2023-10-19T15:10:21.530302",
     "status": "completed"
    },
    "tags": []
   },
   "source": [
    "Next, let's see how the score is improved by adding new features.  \n",
    "As you can see the Light GBM \"importance\" in the above Section 1, not Price-related but Size-related features were regarded as important by LightGBM, thus try to create Size-related new features. First, let's create the ratio between imbalance_size and matched_size.  \n",
    "\n",
    "さらに特徴量を加えてスコア改善するかを見てみます。  \n",
    "上記１で特徴量のImportanceを見た際、PriceではなくSizeに関するものが上位を占めていましたので、Sizeに関連する新しい特徴量を作ってみます。まずはimbalance_sizeとmatched_sizeとの比率を新たな特徴として加えてみます。\n",
    "![image.png](attachment:c9c583f8-761a-4795-bdcb-5ff55d894a55.png)\n",
    "\n",
    "The result is Puclic score was improved to **5.3866** as expected.  \n",
    "\n",
    "結果、スコアは**5.3866**へと順調に改善しました。"
   ]
  },
  {
   "cell_type": "code",
   "execution_count": 11,
   "id": "b9e06d36",
   "metadata": {
    "execution": {
     "iopub.execute_input": "2023-10-19T15:10:21.559696Z",
     "iopub.status.busy": "2023-10-19T15:10:21.559327Z",
     "iopub.status.idle": "2023-10-19T15:10:21.563966Z",
     "shell.execute_reply": "2023-10-19T15:10:21.562974Z"
    },
    "papermill": {
     "duration": 0.017803,
     "end_time": "2023-10-19T15:10:21.566343",
     "exception": false,
     "start_time": "2023-10-19T15:10:21.548540",
     "status": "completed"
    },
    "tags": []
   },
   "outputs": [],
   "source": [
    "#def pre_process1(df):\n",
    "#    df['imbalance_ratio'] = df['imbalance_size'] / df['matched_size']\n",
    "#    return df"
   ]
  },
  {
   "cell_type": "markdown",
   "id": "852da98f",
   "metadata": {
    "papermill": {
     "duration": 0.008447,
     "end_time": "2023-10-19T15:10:21.583760",
     "exception": false,
     "start_time": "2023-10-19T15:10:21.575313",
     "status": "completed"
    },
    "tags": []
   },
   "source": [
    "# 4. Add imbalance_size"
   ]
  },
  {
   "cell_type": "markdown",
   "id": "f1d088cb",
   "metadata": {
    "papermill": {
     "duration": 0.008534,
     "end_time": "2023-10-19T15:10:21.601105",
     "exception": false,
     "start_time": "2023-10-19T15:10:21.592571",
     "status": "completed"
    },
    "tags": []
   },
   "source": [
    "Then, let's try to add 2 more features related to imbalance between bid-size and ask-size, which will improve Public score to **5.3852**.  \n",
    "\n",
    "次に、bid-sizeとask-sizeも用いてbidとaskの不均衡さに関する特徴量を二つ追加します。  \n",
    "この結果、スコアは**5.3852**へと改善しました。\n",
    "\n",
    "For these features, I referred to below great notebook.   \n",
    "https://www.kaggle.com/code/renatoreggiani/optv-lightgbm"
   ]
  },
  {
   "cell_type": "code",
   "execution_count": 12,
   "id": "7c4379a7",
   "metadata": {
    "execution": {
     "iopub.execute_input": "2023-10-19T15:10:21.621340Z",
     "iopub.status.busy": "2023-10-19T15:10:21.620954Z",
     "iopub.status.idle": "2023-10-19T15:10:21.625637Z",
     "shell.execute_reply": "2023-10-19T15:10:21.624786Z"
    },
    "papermill": {
     "duration": 0.017946,
     "end_time": "2023-10-19T15:10:21.627728",
     "exception": false,
     "start_time": "2023-10-19T15:10:21.609782",
     "status": "completed"
    },
    "tags": []
   },
   "outputs": [],
   "source": [
    "#def pre_process1(df):\n",
    "#       \n",
    "#    df['imbl_size1'] = (df['bid_size']-df['ask_size']) / (df['bid_size']+df['ask_size'])\n",
    "#    df['imbl_size2'] = (df['imbalance_size']-df['matched_size']) / (df['imbalance_size']+df['matched_size'])\n",
    "#    \n",
    "#    return df"
   ]
  },
  {
   "cell_type": "markdown",
   "id": "ffab8686",
   "metadata": {
    "papermill": {
     "duration": 0.008543,
     "end_time": "2023-10-19T15:10:21.645595",
     "exception": false,
     "start_time": "2023-10-19T15:10:21.637052",
     "status": "completed"
    },
    "tags": []
   },
   "source": [
    "# 5. Try to use \"diff\" #\n",
    "\n",
    "I tried to add Price diff for bid/ask-price of every time, since I remember the approach contributed to the improvement of score in Optiver's Volatility competition 2 years ago. However, the score unfortunatelly got worse to 5.3891, which is worse than Baseline. In my previous version, multiplication of Price-diff and Size-diff contributed to the score improvement, and hence I tried the same in this version also, but unfortunately doesn't work well. I am still considering how to utilize the \"diff\" of price or size, and would update this notebook if I come up with any good idea.  \n",
    "\n",
    "2年前のVolatility予測の際、Bid価格・Ask価格の毎秒毎の価格差を特徴量に加えるとスコアが大きく改善した記憶があるので、同じ手法でスコアが改善するか試してみます。が、結果は5.3891へとBaselineよりも悪化してしまいました。前回のバージョンでは、PriceのdiffとSizeのdiffを掛け合わせるとスコアが良くなったのでこちらも試してみましたが、結果は5.3877といくぶんマシにはなりましたが、依然上記４の結果よりは悪い結果にとどまっています。なんとかDiffを使ってスコアを改善させる良い手段が見つかれば改めて更新いたします。"
   ]
  },
  {
   "cell_type": "markdown",
   "id": "daa0b569",
   "metadata": {
    "papermill": {
     "duration": 0.009061,
     "end_time": "2023-10-19T15:10:21.663529",
     "exception": false,
     "start_time": "2023-10-19T15:10:21.654468",
     "status": "completed"
    },
    "tags": []
   },
   "source": [
    "# 6. Add bid/ask ratio in size and price\n",
    "\n",
    "Approach to use \"diff\" didn't work well, but it seems imbalance-related new features work well, thus let's try to add ratio between bid and ask in price and size. The result is, public score was improved to **5.3834**, which is the best improvement so far. (For these new features, I refered to the above-mentioned link. Hoiwever, I didn't adopt the new features created by simple \"plus\" or \"minus\" of existing 2 features, since in my experiences I think those simple new features don't work. I guess simple plus/minus relationship between existing features are already considered by LGBM during study.)\n",
    "\n",
    "diffはうまく行きませんでしたが、バランスの不均衡に関する特徴量がうまく作用しているように見えるので、金額・サイズにおけるbid・ask間の比率を新たに特徴量として追加します。  \n",
    "結果として、Public Scoreは**5.3834**へとこれまでで最も良い改善幅となりました。  \n",
    "（この特徴量についても上記４記載のリンク先Notebookを参照させていただきました。なお、経験上、既存の特徴量を単純に足したり引いたりして作った新特徴量は効果がない、むしろスコア悪化に繋がることが多いと感じていますので、これらの特徴量は採用しませんでした。）"
   ]
  },
  {
   "cell_type": "code",
   "execution_count": 13,
   "id": "333bd4cb",
   "metadata": {
    "execution": {
     "iopub.execute_input": "2023-10-19T15:10:21.684059Z",
     "iopub.status.busy": "2023-10-19T15:10:21.683698Z",
     "iopub.status.idle": "2023-10-19T15:10:21.690363Z",
     "shell.execute_reply": "2023-10-19T15:10:21.689114Z"
    },
    "papermill": {
     "duration": 0.020057,
     "end_time": "2023-10-19T15:10:21.692767",
     "exception": false,
     "start_time": "2023-10-19T15:10:21.672710",
     "status": "completed"
    },
    "tags": []
   },
   "outputs": [],
   "source": [
    "def pre_process1(df):\n",
    "    \n",
    "    df['imbalance_ratio'] = df['imbalance_size'] / df['matched_size'] \n",
    "    #---> improve 0.0012\n",
    "    \n",
    "    df['imbl_size1'] = (df['bid_size']-df['ask_size']) / (df['bid_size']+df['ask_size'])\n",
    "    df['imbl_size2'] = (df['imbalance_size']-df['matched_size']) / (df['imbalance_size']+df['matched_size'])\n",
    "    #---> improve 0.0014\n",
    "    \n",
    "    #df['bid_size_diff'] = df[[\"stock_id\", \"date_id\", \"bid_size\"]].groupby([\"stock_id\",\"date_id\"]).diff()\n",
    "    #df['ask_size_diff'] = df[[\"stock_id\", \"date_id\", \"ask_size\"]].groupby([\"stock_id\",\"date_id\"]).diff()\n",
    "    #<--- \"diff\" doesn't work well\n",
    "    \n",
    "    df[\"bid_size_over_ask_size\"] = df[\"bid_size\"].div(df[\"ask_size\"])\n",
    "    df[\"bid_price_over_ask_price\"] = df[\"bid_price\"].div(df[\"ask_price\"])\n",
    "    #---> improve 0.0018\n",
    "            \n",
    "    return df"
   ]
  },
  {
   "cell_type": "code",
   "execution_count": 14,
   "id": "ad2c5d02",
   "metadata": {
    "execution": {
     "iopub.execute_input": "2023-10-19T15:10:21.713891Z",
     "iopub.status.busy": "2023-10-19T15:10:21.713539Z",
     "iopub.status.idle": "2023-10-19T15:10:22.436284Z",
     "shell.execute_reply": "2023-10-19T15:10:22.434868Z"
    },
    "papermill": {
     "duration": 0.737457,
     "end_time": "2023-10-19T15:10:22.439982",
     "exception": false,
     "start_time": "2023-10-19T15:10:21.702525",
     "status": "completed"
    },
    "tags": []
   },
   "outputs": [
    {
     "data": {
      "text/html": [
       "<div>\n",
       "<style scoped>\n",
       "    .dataframe tbody tr th:only-of-type {\n",
       "        vertical-align: middle;\n",
       "    }\n",
       "\n",
       "    .dataframe tbody tr th {\n",
       "        vertical-align: top;\n",
       "    }\n",
       "\n",
       "    .dataframe thead th {\n",
       "        text-align: right;\n",
       "    }\n",
       "</style>\n",
       "<table border=\"1\" class=\"dataframe\">\n",
       "  <thead>\n",
       "    <tr style=\"text-align: right;\">\n",
       "      <th></th>\n",
       "      <th>stock_id</th>\n",
       "      <th>seconds_in_bucket</th>\n",
       "      <th>imbalance_size</th>\n",
       "      <th>imbalance_buy_sell_flag</th>\n",
       "      <th>reference_price</th>\n",
       "      <th>matched_size</th>\n",
       "      <th>far_price</th>\n",
       "      <th>near_price</th>\n",
       "      <th>bid_price</th>\n",
       "      <th>bid_size</th>\n",
       "      <th>ask_price</th>\n",
       "      <th>ask_size</th>\n",
       "      <th>wap</th>\n",
       "      <th>target</th>\n",
       "      <th>imbalance_ratio</th>\n",
       "      <th>imbl_size1</th>\n",
       "      <th>imbl_size2</th>\n",
       "      <th>bid_size_over_ask_size</th>\n",
       "      <th>bid_price_over_ask_price</th>\n",
       "    </tr>\n",
       "  </thead>\n",
       "  <tbody>\n",
       "    <tr>\n",
       "      <th>0</th>\n",
       "      <td>0</td>\n",
       "      <td>0</td>\n",
       "      <td>3180602.69</td>\n",
       "      <td>1</td>\n",
       "      <td>0.999812</td>\n",
       "      <td>13380276.64</td>\n",
       "      <td>0.000000</td>\n",
       "      <td>0.000000</td>\n",
       "      <td>0.999812</td>\n",
       "      <td>60651.50</td>\n",
       "      <td>1.000026</td>\n",
       "      <td>8493.03</td>\n",
       "      <td>1.000000</td>\n",
       "      <td>-3.029704</td>\n",
       "      <td>0.237708</td>\n",
       "      <td>0.754340</td>\n",
       "      <td>-0.615890</td>\n",
       "      <td>7.141326</td>\n",
       "      <td>0.999786</td>\n",
       "    </tr>\n",
       "    <tr>\n",
       "      <th>1</th>\n",
       "      <td>1</td>\n",
       "      <td>0</td>\n",
       "      <td>166603.91</td>\n",
       "      <td>-1</td>\n",
       "      <td>0.999896</td>\n",
       "      <td>1642214.25</td>\n",
       "      <td>0.000000</td>\n",
       "      <td>0.000000</td>\n",
       "      <td>0.999896</td>\n",
       "      <td>3233.04</td>\n",
       "      <td>1.000660</td>\n",
       "      <td>20605.09</td>\n",
       "      <td>1.000000</td>\n",
       "      <td>-5.519986</td>\n",
       "      <td>0.101451</td>\n",
       "      <td>-0.728751</td>\n",
       "      <td>-0.815787</td>\n",
       "      <td>0.156905</td>\n",
       "      <td>0.999237</td>\n",
       "    </tr>\n",
       "    <tr>\n",
       "      <th>2</th>\n",
       "      <td>2</td>\n",
       "      <td>0</td>\n",
       "      <td>302879.87</td>\n",
       "      <td>-1</td>\n",
       "      <td>0.999561</td>\n",
       "      <td>1819368.03</td>\n",
       "      <td>0.000000</td>\n",
       "      <td>0.000000</td>\n",
       "      <td>0.999403</td>\n",
       "      <td>37956.00</td>\n",
       "      <td>1.000298</td>\n",
       "      <td>18995.00</td>\n",
       "      <td>1.000000</td>\n",
       "      <td>-8.389950</td>\n",
       "      <td>0.166475</td>\n",
       "      <td>0.332935</td>\n",
       "      <td>-0.714567</td>\n",
       "      <td>1.998210</td>\n",
       "      <td>0.999105</td>\n",
       "    </tr>\n",
       "    <tr>\n",
       "      <th>3</th>\n",
       "      <td>3</td>\n",
       "      <td>0</td>\n",
       "      <td>11917682.27</td>\n",
       "      <td>-1</td>\n",
       "      <td>1.000171</td>\n",
       "      <td>18389745.62</td>\n",
       "      <td>0.000000</td>\n",
       "      <td>0.000000</td>\n",
       "      <td>0.999999</td>\n",
       "      <td>2324.90</td>\n",
       "      <td>1.000214</td>\n",
       "      <td>479032.40</td>\n",
       "      <td>1.000000</td>\n",
       "      <td>-4.010200</td>\n",
       "      <td>0.648061</td>\n",
       "      <td>-0.990340</td>\n",
       "      <td>-0.213547</td>\n",
       "      <td>0.004853</td>\n",
       "      <td>0.999785</td>\n",
       "    </tr>\n",
       "    <tr>\n",
       "      <th>4</th>\n",
       "      <td>4</td>\n",
       "      <td>0</td>\n",
       "      <td>447549.96</td>\n",
       "      <td>-1</td>\n",
       "      <td>0.999532</td>\n",
       "      <td>17860614.95</td>\n",
       "      <td>0.000000</td>\n",
       "      <td>0.000000</td>\n",
       "      <td>0.999394</td>\n",
       "      <td>16485.54</td>\n",
       "      <td>1.000016</td>\n",
       "      <td>434.10</td>\n",
       "      <td>1.000000</td>\n",
       "      <td>-7.349849</td>\n",
       "      <td>0.025058</td>\n",
       "      <td>0.948687</td>\n",
       "      <td>-0.951109</td>\n",
       "      <td>37.976365</td>\n",
       "      <td>0.999378</td>\n",
       "    </tr>\n",
       "    <tr>\n",
       "      <th>...</th>\n",
       "      <td>...</td>\n",
       "      <td>...</td>\n",
       "      <td>...</td>\n",
       "      <td>...</td>\n",
       "      <td>...</td>\n",
       "      <td>...</td>\n",
       "      <td>...</td>\n",
       "      <td>...</td>\n",
       "      <td>...</td>\n",
       "      <td>...</td>\n",
       "      <td>...</td>\n",
       "      <td>...</td>\n",
       "      <td>...</td>\n",
       "      <td>...</td>\n",
       "      <td>...</td>\n",
       "      <td>...</td>\n",
       "      <td>...</td>\n",
       "      <td>...</td>\n",
       "      <td>...</td>\n",
       "    </tr>\n",
       "    <tr>\n",
       "      <th>5237975</th>\n",
       "      <td>195</td>\n",
       "      <td>540</td>\n",
       "      <td>2440722.89</td>\n",
       "      <td>-1</td>\n",
       "      <td>1.000317</td>\n",
       "      <td>28280361.74</td>\n",
       "      <td>0.999734</td>\n",
       "      <td>0.999734</td>\n",
       "      <td>1.000317</td>\n",
       "      <td>32257.04</td>\n",
       "      <td>1.000434</td>\n",
       "      <td>319862.40</td>\n",
       "      <td>1.000328</td>\n",
       "      <td>2.310276</td>\n",
       "      <td>0.086305</td>\n",
       "      <td>-0.816784</td>\n",
       "      <td>-0.841104</td>\n",
       "      <td>0.100847</td>\n",
       "      <td>0.999883</td>\n",
       "    </tr>\n",
       "    <tr>\n",
       "      <th>5237976</th>\n",
       "      <td>196</td>\n",
       "      <td>540</td>\n",
       "      <td>349510.47</td>\n",
       "      <td>-1</td>\n",
       "      <td>1.000643</td>\n",
       "      <td>9187699.11</td>\n",
       "      <td>1.000129</td>\n",
       "      <td>1.000386</td>\n",
       "      <td>1.000643</td>\n",
       "      <td>205108.40</td>\n",
       "      <td>1.000900</td>\n",
       "      <td>93393.07</td>\n",
       "      <td>1.000819</td>\n",
       "      <td>-8.220077</td>\n",
       "      <td>0.038041</td>\n",
       "      <td>0.374254</td>\n",
       "      <td>-0.926706</td>\n",
       "      <td>2.196184</td>\n",
       "      <td>0.999743</td>\n",
       "    </tr>\n",
       "    <tr>\n",
       "      <th>5237977</th>\n",
       "      <td>197</td>\n",
       "      <td>540</td>\n",
       "      <td>0.00</td>\n",
       "      <td>0</td>\n",
       "      <td>0.995789</td>\n",
       "      <td>12725436.10</td>\n",
       "      <td>0.995789</td>\n",
       "      <td>0.995789</td>\n",
       "      <td>0.995789</td>\n",
       "      <td>16790.66</td>\n",
       "      <td>0.995883</td>\n",
       "      <td>180038.32</td>\n",
       "      <td>0.995797</td>\n",
       "      <td>1.169443</td>\n",
       "      <td>0.000000</td>\n",
       "      <td>-0.829388</td>\n",
       "      <td>-1.000000</td>\n",
       "      <td>0.093262</td>\n",
       "      <td>0.999906</td>\n",
       "    </tr>\n",
       "    <tr>\n",
       "      <th>5237978</th>\n",
       "      <td>198</td>\n",
       "      <td>540</td>\n",
       "      <td>1000898.84</td>\n",
       "      <td>1</td>\n",
       "      <td>0.999210</td>\n",
       "      <td>94773271.05</td>\n",
       "      <td>0.999210</td>\n",
       "      <td>0.999210</td>\n",
       "      <td>0.998970</td>\n",
       "      <td>125631.72</td>\n",
       "      <td>0.999210</td>\n",
       "      <td>669893.00</td>\n",
       "      <td>0.999008</td>\n",
       "      <td>-1.540184</td>\n",
       "      <td>0.010561</td>\n",
       "      <td>-0.684154</td>\n",
       "      <td>-0.979099</td>\n",
       "      <td>0.187540</td>\n",
       "      <td>0.999760</td>\n",
       "    </tr>\n",
       "    <tr>\n",
       "      <th>5237979</th>\n",
       "      <td>199</td>\n",
       "      <td>540</td>\n",
       "      <td>1884285.71</td>\n",
       "      <td>-1</td>\n",
       "      <td>1.002129</td>\n",
       "      <td>24073677.32</td>\n",
       "      <td>1.000859</td>\n",
       "      <td>1.001494</td>\n",
       "      <td>1.002129</td>\n",
       "      <td>250081.44</td>\n",
       "      <td>1.002447</td>\n",
       "      <td>300167.56</td>\n",
       "      <td>1.002274</td>\n",
       "      <td>-6.530285</td>\n",
       "      <td>0.078272</td>\n",
       "      <td>-0.091024</td>\n",
       "      <td>-0.854820</td>\n",
       "      <td>0.833139</td>\n",
       "      <td>0.999683</td>\n",
       "    </tr>\n",
       "  </tbody>\n",
       "</table>\n",
       "<p>5237980 rows × 19 columns</p>\n",
       "</div>"
      ],
      "text/plain": [
       "         stock_id  seconds_in_bucket  imbalance_size  imbalance_buy_sell_flag  \\\n",
       "0               0                  0      3180602.69                        1   \n",
       "1               1                  0       166603.91                       -1   \n",
       "2               2                  0       302879.87                       -1   \n",
       "3               3                  0     11917682.27                       -1   \n",
       "4               4                  0       447549.96                       -1   \n",
       "...           ...                ...             ...                      ...   \n",
       "5237975       195                540      2440722.89                       -1   \n",
       "5237976       196                540       349510.47                       -1   \n",
       "5237977       197                540            0.00                        0   \n",
       "5237978       198                540      1000898.84                        1   \n",
       "5237979       199                540      1884285.71                       -1   \n",
       "\n",
       "         reference_price  matched_size  far_price  near_price  bid_price  \\\n",
       "0               0.999812   13380276.64   0.000000    0.000000   0.999812   \n",
       "1               0.999896    1642214.25   0.000000    0.000000   0.999896   \n",
       "2               0.999561    1819368.03   0.000000    0.000000   0.999403   \n",
       "3               1.000171   18389745.62   0.000000    0.000000   0.999999   \n",
       "4               0.999532   17860614.95   0.000000    0.000000   0.999394   \n",
       "...                  ...           ...        ...         ...        ...   \n",
       "5237975         1.000317   28280361.74   0.999734    0.999734   1.000317   \n",
       "5237976         1.000643    9187699.11   1.000129    1.000386   1.000643   \n",
       "5237977         0.995789   12725436.10   0.995789    0.995789   0.995789   \n",
       "5237978         0.999210   94773271.05   0.999210    0.999210   0.998970   \n",
       "5237979         1.002129   24073677.32   1.000859    1.001494   1.002129   \n",
       "\n",
       "          bid_size  ask_price   ask_size       wap    target  imbalance_ratio  \\\n",
       "0         60651.50   1.000026    8493.03  1.000000 -3.029704         0.237708   \n",
       "1          3233.04   1.000660   20605.09  1.000000 -5.519986         0.101451   \n",
       "2         37956.00   1.000298   18995.00  1.000000 -8.389950         0.166475   \n",
       "3          2324.90   1.000214  479032.40  1.000000 -4.010200         0.648061   \n",
       "4         16485.54   1.000016     434.10  1.000000 -7.349849         0.025058   \n",
       "...            ...        ...        ...       ...       ...              ...   \n",
       "5237975   32257.04   1.000434  319862.40  1.000328  2.310276         0.086305   \n",
       "5237976  205108.40   1.000900   93393.07  1.000819 -8.220077         0.038041   \n",
       "5237977   16790.66   0.995883  180038.32  0.995797  1.169443         0.000000   \n",
       "5237978  125631.72   0.999210  669893.00  0.999008 -1.540184         0.010561   \n",
       "5237979  250081.44   1.002447  300167.56  1.002274 -6.530285         0.078272   \n",
       "\n",
       "         imbl_size1  imbl_size2  bid_size_over_ask_size  \\\n",
       "0          0.754340   -0.615890                7.141326   \n",
       "1         -0.728751   -0.815787                0.156905   \n",
       "2          0.332935   -0.714567                1.998210   \n",
       "3         -0.990340   -0.213547                0.004853   \n",
       "4          0.948687   -0.951109               37.976365   \n",
       "...             ...         ...                     ...   \n",
       "5237975   -0.816784   -0.841104                0.100847   \n",
       "5237976    0.374254   -0.926706                2.196184   \n",
       "5237977   -0.829388   -1.000000                0.093262   \n",
       "5237978   -0.684154   -0.979099                0.187540   \n",
       "5237979   -0.091024   -0.854820                0.833139   \n",
       "\n",
       "         bid_price_over_ask_price  \n",
       "0                        0.999786  \n",
       "1                        0.999237  \n",
       "2                        0.999105  \n",
       "3                        0.999785  \n",
       "4                        0.999378  \n",
       "...                           ...  \n",
       "5237975                  0.999883  \n",
       "5237976                  0.999743  \n",
       "5237977                  0.999906  \n",
       "5237978                  0.999760  \n",
       "5237979                  0.999683  \n",
       "\n",
       "[5237980 rows x 19 columns]"
      ]
     },
     "execution_count": 14,
     "metadata": {},
     "output_type": "execute_result"
    }
   ],
   "source": [
    "df_train = pre_process1(df_train)\n",
    "df_train = feature_cols(df_train)\n",
    "df_train.fillna(0, inplace = True)\n",
    "df_train"
   ]
  },
  {
   "cell_type": "code",
   "execution_count": 15,
   "id": "1b5aee40",
   "metadata": {
    "execution": {
     "iopub.execute_input": "2023-10-19T15:10:22.463205Z",
     "iopub.status.busy": "2023-10-19T15:10:22.462223Z",
     "iopub.status.idle": "2023-10-19T15:10:23.322958Z",
     "shell.execute_reply": "2023-10-19T15:10:23.321474Z"
    },
    "papermill": {
     "duration": 0.874299,
     "end_time": "2023-10-19T15:10:23.325880",
     "exception": false,
     "start_time": "2023-10-19T15:10:22.451581",
     "status": "completed"
    },
    "tags": []
   },
   "outputs": [],
   "source": [
    "x_train = feature_cols(df_train.drop(columns='target'))\n",
    "y_train = df_train['target'].values"
   ]
  },
  {
   "cell_type": "code",
   "execution_count": 16,
   "id": "be5b588e",
   "metadata": {
    "execution": {
     "iopub.execute_input": "2023-10-19T15:10:23.347733Z",
     "iopub.status.busy": "2023-10-19T15:10:23.347316Z",
     "iopub.status.idle": "2023-10-19T15:14:47.354640Z",
     "shell.execute_reply": "2023-10-19T15:14:47.353497Z"
    },
    "papermill": {
     "duration": 264.091471,
     "end_time": "2023-10-19T15:14:47.427364",
     "exception": false,
     "start_time": "2023-10-19T15:10:23.335893",
     "status": "completed"
    },
    "tags": []
   },
   "outputs": [
    {
     "data": {
      "text/html": [
       "<style>#sk-container-id-2 {color: black;background-color: white;}#sk-container-id-2 pre{padding: 0;}#sk-container-id-2 div.sk-toggleable {background-color: white;}#sk-container-id-2 label.sk-toggleable__label {cursor: pointer;display: block;width: 100%;margin-bottom: 0;padding: 0.3em;box-sizing: border-box;text-align: center;}#sk-container-id-2 label.sk-toggleable__label-arrow:before {content: \"▸\";float: left;margin-right: 0.25em;color: #696969;}#sk-container-id-2 label.sk-toggleable__label-arrow:hover:before {color: black;}#sk-container-id-2 div.sk-estimator:hover label.sk-toggleable__label-arrow:before {color: black;}#sk-container-id-2 div.sk-toggleable__content {max-height: 0;max-width: 0;overflow: hidden;text-align: left;background-color: #f0f8ff;}#sk-container-id-2 div.sk-toggleable__content pre {margin: 0.2em;color: black;border-radius: 0.25em;background-color: #f0f8ff;}#sk-container-id-2 input.sk-toggleable__control:checked~div.sk-toggleable__content {max-height: 200px;max-width: 100%;overflow: auto;}#sk-container-id-2 input.sk-toggleable__control:checked~label.sk-toggleable__label-arrow:before {content: \"▾\";}#sk-container-id-2 div.sk-estimator input.sk-toggleable__control:checked~label.sk-toggleable__label {background-color: #d4ebff;}#sk-container-id-2 div.sk-label input.sk-toggleable__control:checked~label.sk-toggleable__label {background-color: #d4ebff;}#sk-container-id-2 input.sk-hidden--visually {border: 0;clip: rect(1px 1px 1px 1px);clip: rect(1px, 1px, 1px, 1px);height: 1px;margin: -1px;overflow: hidden;padding: 0;position: absolute;width: 1px;}#sk-container-id-2 div.sk-estimator {font-family: monospace;background-color: #f0f8ff;border: 1px dotted black;border-radius: 0.25em;box-sizing: border-box;margin-bottom: 0.5em;}#sk-container-id-2 div.sk-estimator:hover {background-color: #d4ebff;}#sk-container-id-2 div.sk-parallel-item::after {content: \"\";width: 100%;border-bottom: 1px solid gray;flex-grow: 1;}#sk-container-id-2 div.sk-label:hover label.sk-toggleable__label {background-color: #d4ebff;}#sk-container-id-2 div.sk-serial::before {content: \"\";position: absolute;border-left: 1px solid gray;box-sizing: border-box;top: 0;bottom: 0;left: 50%;z-index: 0;}#sk-container-id-2 div.sk-serial {display: flex;flex-direction: column;align-items: center;background-color: white;padding-right: 0.2em;padding-left: 0.2em;position: relative;}#sk-container-id-2 div.sk-item {position: relative;z-index: 1;}#sk-container-id-2 div.sk-parallel {display: flex;align-items: stretch;justify-content: center;background-color: white;position: relative;}#sk-container-id-2 div.sk-item::before, #sk-container-id-2 div.sk-parallel-item::before {content: \"\";position: absolute;border-left: 1px solid gray;box-sizing: border-box;top: 0;bottom: 0;left: 50%;z-index: -1;}#sk-container-id-2 div.sk-parallel-item {display: flex;flex-direction: column;z-index: 1;position: relative;background-color: white;}#sk-container-id-2 div.sk-parallel-item:first-child::after {align-self: flex-end;width: 50%;}#sk-container-id-2 div.sk-parallel-item:last-child::after {align-self: flex-start;width: 50%;}#sk-container-id-2 div.sk-parallel-item:only-child::after {width: 0;}#sk-container-id-2 div.sk-dashed-wrapped {border: 1px dashed gray;margin: 0 0.4em 0.5em 0.4em;box-sizing: border-box;padding-bottom: 0.4em;background-color: white;}#sk-container-id-2 div.sk-label label {font-family: monospace;font-weight: bold;display: inline-block;line-height: 1.2em;}#sk-container-id-2 div.sk-label-container {text-align: center;}#sk-container-id-2 div.sk-container {/* jupyter's `normalize.less` sets `[hidden] { display: none; }` but bootstrap.min.css set `[hidden] { display: none !important; }` so we also need the `!important` here to be able to override the default hidden behavior on the sphinx rendered scikit-learn.org. See: https://github.com/scikit-learn/scikit-learn/issues/21755 */display: inline-block !important;position: relative;}#sk-container-id-2 div.sk-text-repr-fallback {display: none;}</style><div id=\"sk-container-id-2\" class=\"sk-top-container\"><div class=\"sk-text-repr-fallback\"><pre>LGBMRegressor(max_depth=7, n_estimators=895, num_leaves=25, objective=&#x27;mae&#x27;)</pre><b>In a Jupyter environment, please rerun this cell to show the HTML representation or trust the notebook. <br />On GitHub, the HTML representation is unable to render, please try loading this page with nbviewer.org.</b></div><div class=\"sk-container\" hidden><div class=\"sk-item\"><div class=\"sk-estimator sk-toggleable\"><input class=\"sk-toggleable__control sk-hidden--visually\" id=\"sk-estimator-id-2\" type=\"checkbox\" checked><label for=\"sk-estimator-id-2\" class=\"sk-toggleable__label sk-toggleable__label-arrow\">LGBMRegressor</label><div class=\"sk-toggleable__content\"><pre>LGBMRegressor(max_depth=7, n_estimators=895, num_leaves=25, objective=&#x27;mae&#x27;)</pre></div></div></div></div></div>"
      ],
      "text/plain": [
       "LGBMRegressor(max_depth=7, n_estimators=895, num_leaves=25, objective='mae')"
      ]
     },
     "execution_count": 16,
     "metadata": {},
     "output_type": "execute_result"
    }
   ],
   "source": [
    "lgbm_model = lgbm.LGBMRegressor(objective='mae',\n",
    "                                n_estimators=895,\n",
    "                                num_leaves= 25,\n",
    "                                max_depth= 7)\n",
    "lgbm_model.fit(x_train, y_train)"
   ]
  },
  {
   "cell_type": "code",
   "execution_count": 17,
   "id": "b1cd0f14",
   "metadata": {
    "execution": {
     "iopub.execute_input": "2023-10-19T15:14:47.448291Z",
     "iopub.status.busy": "2023-10-19T15:14:47.447911Z",
     "iopub.status.idle": "2023-10-19T15:14:47.914854Z",
     "shell.execute_reply": "2023-10-19T15:14:47.913763Z"
    },
    "papermill": {
     "duration": 0.480208,
     "end_time": "2023-10-19T15:14:47.916984",
     "exception": false,
     "start_time": "2023-10-19T15:14:47.436776",
     "status": "completed"
    },
    "tags": []
   },
   "outputs": [
    {
     "data": {
      "text/plain": [
       "<Axes: title={'center': 'Feature importance'}, xlabel='Feature importance', ylabel='Features'>"
      ]
     },
     "execution_count": 17,
     "metadata": {},
     "output_type": "execute_result"
    },
    {
     "data": {
      "image/png": "[encoded data removed]",
      "text/plain": [
       "<Figure size 640x480 with 1 Axes>"
      ]
     },
     "metadata": {},
     "output_type": "display_data"
    }
   ],
   "source": [
    "lgbm.plot_importance(lgbm_model, importance_type=\"gain\")"
   ]
  },
  {
   "cell_type": "markdown",
   "id": "b4e0deb5",
   "metadata": {
    "papermill": {
     "duration": 0.010719,
     "end_time": "2023-10-19T15:14:47.938709",
     "exception": false,
     "start_time": "2023-10-19T15:14:47.927990",
     "status": "completed"
    },
    "tags": []
   },
   "source": [
    "# 7. Submission\n",
    "\n",
    "As I said, this notebook is just a starter, and thus I'll submit at this point.   \n",
    "In this competition, API provided by kaggle should be used.  \n",
    "\n",
    "このNotebookはStarterとの位置づけですので、いったんこのあたりで提出してみます。  \n",
    "このコンペでは、SubmissionにはKaggleから提供されているAPIを利用します。"
   ]
  },
  {
   "cell_type": "code",
   "execution_count": 18,
   "id": "47a3711d",
   "metadata": {
    "execution": {
     "iopub.execute_input": "2023-10-19T15:14:47.962829Z",
     "iopub.status.busy": "2023-10-19T15:14:47.962466Z",
     "iopub.status.idle": "2023-10-19T15:14:47.998954Z",
     "shell.execute_reply": "2023-10-19T15:14:47.997842Z"
    },
    "papermill": {
     "duration": 0.05184,
     "end_time": "2023-10-19T15:14:48.001368",
     "exception": false,
     "start_time": "2023-10-19T15:14:47.949528",
     "status": "completed"
    },
    "tags": []
   },
   "outputs": [],
   "source": [
    "import optiver2023\n",
    "env = optiver2023.make_env()\n",
    "iter_test = env.iter_test()"
   ]
  },
  {
   "cell_type": "code",
   "execution_count": 19,
   "id": "9bd56a30",
   "metadata": {
    "execution": {
     "iopub.execute_input": "2023-10-19T15:14:48.026039Z",
     "iopub.status.busy": "2023-10-19T15:14:48.025689Z",
     "iopub.status.idle": "2023-10-19T15:14:50.380105Z",
     "shell.execute_reply": "2023-10-19T15:14:50.378936Z"
    },
    "papermill": {
     "duration": 2.369692,
     "end_time": "2023-10-19T15:14:50.382480",
     "exception": false,
     "start_time": "2023-10-19T15:14:48.012788",
     "status": "completed"
    },
    "tags": []
   },
   "outputs": [
    {
     "name": "stdout",
     "output_type": "stream",
     "text": [
      "This version of the API is not optimized and should not be used to estimate the runtime of your code on the hidden test set.\n"
     ]
    }
   ],
   "source": [
    "counter = 0\n",
    "for (test, revealed_targets, sample_prediction) in iter_test:\n",
    "    test = pre_process1(test)\n",
    "    test_df = feature_cols(test)\n",
    "    sample_prediction['target'] = lgbm_model.predict(test_df)\n",
    "    env.predict(sample_prediction)\n",
    "    \n",
    "    counter += 1"
   ]
  },
  {
   "cell_type": "code",
   "execution_count": 20,
   "id": "eca4895f",
   "metadata": {
    "execution": {
     "iopub.execute_input": "2023-10-19T15:14:50.408116Z",
     "iopub.status.busy": "2023-10-19T15:14:50.407748Z",
     "iopub.status.idle": "2023-10-19T15:14:50.420448Z",
     "shell.execute_reply": "2023-10-19T15:14:50.419357Z"
    },
    "papermill": {
     "duration": 0.027966,
     "end_time": "2023-10-19T15:14:50.422696",
     "exception": false,
     "start_time": "2023-10-19T15:14:50.394730",
     "status": "completed"
    },
    "tags": []
   },
   "outputs": [
    {
     "data": {
      "text/html": [
       "<div>\n",
       "<style scoped>\n",
       "    .dataframe tbody tr th:only-of-type {\n",
       "        vertical-align: middle;\n",
       "    }\n",
       "\n",
       "    .dataframe tbody tr th {\n",
       "        vertical-align: top;\n",
       "    }\n",
       "\n",
       "    .dataframe thead th {\n",
       "        text-align: right;\n",
       "    }\n",
       "</style>\n",
       "<table border=\"1\" class=\"dataframe\">\n",
       "  <thead>\n",
       "    <tr style=\"text-align: right;\">\n",
       "      <th></th>\n",
       "      <th>row_id</th>\n",
       "      <th>target</th>\n",
       "    </tr>\n",
       "  </thead>\n",
       "  <tbody>\n",
       "    <tr>\n",
       "      <th>0</th>\n",
       "      <td>480_540_0</td>\n",
       "      <td>-0.436964</td>\n",
       "    </tr>\n",
       "    <tr>\n",
       "      <th>1</th>\n",
       "      <td>480_540_1</td>\n",
       "      <td>0.658475</td>\n",
       "    </tr>\n",
       "    <tr>\n",
       "      <th>2</th>\n",
       "      <td>480_540_2</td>\n",
       "      <td>0.593363</td>\n",
       "    </tr>\n",
       "    <tr>\n",
       "      <th>3</th>\n",
       "      <td>480_540_3</td>\n",
       "      <td>-1.496866</td>\n",
       "    </tr>\n",
       "    <tr>\n",
       "      <th>4</th>\n",
       "      <td>480_540_4</td>\n",
       "      <td>-1.354730</td>\n",
       "    </tr>\n",
       "    <tr>\n",
       "      <th>...</th>\n",
       "      <td>...</td>\n",
       "      <td>...</td>\n",
       "    </tr>\n",
       "    <tr>\n",
       "      <th>195</th>\n",
       "      <td>480_540_195</td>\n",
       "      <td>-2.455686</td>\n",
       "    </tr>\n",
       "    <tr>\n",
       "      <th>196</th>\n",
       "      <td>480_540_196</td>\n",
       "      <td>-1.559976</td>\n",
       "    </tr>\n",
       "    <tr>\n",
       "      <th>197</th>\n",
       "      <td>480_540_197</td>\n",
       "      <td>0.666114</td>\n",
       "    </tr>\n",
       "    <tr>\n",
       "      <th>198</th>\n",
       "      <td>480_540_198</td>\n",
       "      <td>1.878609</td>\n",
       "    </tr>\n",
       "    <tr>\n",
       "      <th>199</th>\n",
       "      <td>480_540_199</td>\n",
       "      <td>-3.146496</td>\n",
       "    </tr>\n",
       "  </tbody>\n",
       "</table>\n",
       "<p>200 rows × 2 columns</p>\n",
       "</div>"
      ],
      "text/plain": [
       "          row_id    target\n",
       "0      480_540_0 -0.436964\n",
       "1      480_540_1  0.658475\n",
       "2      480_540_2  0.593363\n",
       "3      480_540_3 -1.496866\n",
       "4      480_540_4 -1.354730\n",
       "..           ...       ...\n",
       "195  480_540_195 -2.455686\n",
       "196  480_540_196 -1.559976\n",
       "197  480_540_197  0.666114\n",
       "198  480_540_198  1.878609\n",
       "199  480_540_199 -3.146496\n",
       "\n",
       "[200 rows x 2 columns]"
      ]
     },
     "execution_count": 20,
     "metadata": {},
     "output_type": "execute_result"
    }
   ],
   "source": [
    "sample_prediction"
   ]
  }
 ],
 "metadata": {
  "kernelspec": {
   "display_name": "Python 3",
   "language": "python",
   "name": "python3"
  },
  "language_info": {
   "codemirror_mode": {
    "name": "ipython",
    "version": 3
   },
   "file_extension": ".py",
   "mimetype": "text/x-python",
   "name": "python",
   "nbconvert_exporter": "python",
   "pygments_lexer": "ipython3",
   "version": "3.10.12"
  },
  "papermill": {
   "default_parameters": {},
   "duration": 435.806831,
   "end_time": "2023-10-19T15:14:51.558100",
   "environment_variables": {},
   "exception": null,
   "input_path": "__notebook__.ipynb",
   "output_path": "__notebook__.ipynb",
   "parameters": {},
   "start_time": "2023-10-19T15:07:35.751269",
   "version": "2.4.0"
  }
 },
 "nbformat": 4,
 "nbformat_minor": 5
}
